{
 "cells": [
  {
   "cell_type": "code",
   "execution_count": 7,
   "metadata": {},
   "outputs": [],
   "source": [
    "from bs4 import BeautifulSoup\n",
    "import requests\n",
    "import re\n",
    "import pandas as pd\n",
    "import time\n",
    "from lxml import html\n",
    "  "
   ]
  },
  {
   "cell_type": "code",
   "execution_count": 9,
   "metadata": {},
   "outputs": [
    {
     "name": "stdout",
     "output_type": "stream",
     "text": [
      "Process Time Taken - beautifulsoup: 0.171875 sec\n",
      "Total Time Taken - beautifulsoup: 0.6300647258758545 sec\n"
     ]
    }
   ],
   "source": [
    "''' BEAUTIFUL SOUP '''\n",
    "\n",
    "def getHTMLdocument(url):\n",
    "      \n",
    "        response = requests.get(url)      \n",
    "        return response.text\n",
    "\n",
    "rownum = 0\n",
    "book_table = pd.DataFrame(columns=[\"Sr. No.\", \"Name\", \"Link\", \"Cost\", \"Availability\"])\n",
    "\n",
    "start_time_bs = time.process_time()\n",
    "start_time_total_bs = time.time()\n",
    "\n",
    "url_to_scrape = \"http://books.toscrape.com/catalogue/page-\" + str(1) + \".html\"  \n",
    "html_document = getHTMLdocument(url_to_scrape)  \n",
    "soup = BeautifulSoup(html_document, 'html.parser')\n",
    "\n",
    "\n",
    "for row in soup.find_all('li', attrs={'class': re.compile(\"col-xs-6\")}):\n",
    "\n",
    "        rownum += 1\n",
    "        name = row.find('h3').find('a').get('title')\n",
    "        link = \"http://books.toscrape.com/catalogue/\" + row.find('h3').find('a').get('href')\n",
    "        cost = row.find('p', attrs = {'class': re.compile(\"price_color\")}).text.strip()\n",
    "        cost = cost[2:]\n",
    "        availability = row.find('p', attrs = {'class': re.compile(\"instock availability\")}).text.strip()        \n",
    "        book_table.loc[len(book_table.index)] = [rownum, name, link, cost, availability ] \n",
    "\n",
    "stop_time_bs = time.process_time()\n",
    "stop_time_total_bs = time.time()\n",
    "\n",
    "print(f\"Process Time Taken - beautifulsoup: {stop_time_bs - start_time_bs} sec\")\n",
    "print(f\"Total Time Taken - beautifulsoup: {stop_time_total_bs - start_time_total_bs} sec\")\n",
    "\n",
    "book_table.to_excel('py_request_bs.xlsx',index=False)"
   ]
  },
  {
   "cell_type": "code",
   "execution_count": 14,
   "metadata": {},
   "outputs": [
    {
     "name": "stdout",
     "output_type": "stream",
     "text": [
      "Process Time Taken - lxml: 0.125\n",
      "Total Time Taken - lxml: 0.676447868347168 sec\n"
     ]
    }
   ],
   "source": [
    "''' LXML '''\n",
    "\n",
    "def getHTMLdocument(url):      \n",
    "        response = requests.get(url)      \n",
    "        return response.content\n",
    "\n",
    "rownum = 0\n",
    "book_table_lxml = pd.DataFrame(columns=[\"Sr. No.\", \"Name\", \"Link\", \"Cost\", \"Availability\"])\n",
    "\n",
    "start_time_lxml = time.process_time()\n",
    "start_time_total_lxml = time.time()\n",
    "\n",
    "url = \"http://books.toscrape.com/catalogue/page-\" + str(1) + \".html\"\n",
    "byte_data = getHTMLdocument(url)\n",
    "source_code = html.fromstring(byte_data)\n",
    "    \n",
    "for i in range(1,21):\n",
    "\n",
    "        rownum += 1\n",
    "        name_path = '//*[@id=\"default\"]/div/div/div/div/section/div[2]/ol/li[' + str(i) + ']/article/h3/a/@title' \n",
    "        book_link_path = '//*[@id=\"default\"]/div/div/div/div/section/div[2]/ol/li[' + str(i) + ']/article/h3/a/@href'\n",
    "        cost_path = '//*[@id=\"default\"]/div/div/div/div/section/div[2]/ol/li[' + str(i) + ']/article/div[2]/p[1]' \n",
    "        stock_path = '//*[@id=\"default\"]/div/div/div/div/section/div[2]/ol/li[' + str(i) + ']/article/div[2]/p[2]' \n",
    "\n",
    "        name = source_code.xpath(name_path)[0]\n",
    "        book_link = \"http://books.toscrape.com/catalogue/\" + source_code.xpath(book_link_path)[0]\n",
    "        cost = source_code.xpath(cost_path)[0].text_content()\n",
    "        stock = source_code.xpath(stock_path)[0].text_content().strip()\n",
    "\n",
    "        book_table_lxml.loc[len(book_table_lxml.index)] = [rownum, name, book_link, cost, stock ]\n",
    "\n",
    "stop_time_lxml = time.process_time()\n",
    "stop_time_total_lxml = time.time()\n",
    "\n",
    "\n",
    "print(f\"Process Time Taken - lxml: {stop_time_lxml - start_time_lxml}\")\n",
    "print(f\"Total Time Taken - lxml: {stop_time_total_lxml - start_time_total_lxml} sec\")\n",
    "\n",
    "book_table_lxml.to_excel('py_request_lxml.xlsx', index = False)           "
   ]
  }
 ],
 "metadata": {
  "kernelspec": {
   "display_name": "Python 3.10.5 64-bit",
   "language": "python",
   "name": "python3"
  },
  "language_info": {
   "codemirror_mode": {
    "name": "ipython",
    "version": 3
   },
   "file_extension": ".py",
   "mimetype": "text/x-python",
   "name": "python",
   "nbconvert_exporter": "python",
   "pygments_lexer": "ipython3",
   "version": "3.10.5"
  },
  "orig_nbformat": 4,
  "vscode": {
   "interpreter": {
    "hash": "5bceec554de280a03412a6f09a63c4022cb2fe8fc3df3020533e7e5739cca0ff"
   }
  }
 },
 "nbformat": 4,
 "nbformat_minor": 2
}
